{
  "nbformat": 4,
  "nbformat_minor": 0,
  "metadata": {
    "colab": {
      "name": "Create Label For Yolo.ipynb",
      "provenance": [],
      "collapsed_sections": [],
      "authorship_tag": "ABX9TyOVuUDayGv/9nK6TUypY4Ei",
      "include_colab_link": true
    },
    "kernelspec": {
      "name": "python3",
      "display_name": "Python 3"
    }
  },
  "cells": [
    {
      "cell_type": "markdown",
      "metadata": {
        "id": "view-in-github",
        "colab_type": "text"
      },
      "source": [
        "<a href=\"https://colab.research.google.com/github/DhruvMakwana/Global-Wheat-Detection/blob/master/Create_Label_For_Yolo.ipynb\" target=\"_parent\"><img src=\"https://colab.research.google.com/assets/colab-badge.svg\" alt=\"Open In Colab\"/></a>"
      ]
    },
    {
      "cell_type": "code",
      "metadata": {
        "id": "8-R3rxrq1PIt",
        "colab_type": "code",
        "colab": {}
      },
      "source": [
        "# importing libraries\n",
        "import os\n",
        "import pandas as pd\n",
        "import numpy as np\n",
        "from glob import glob\n",
        "from ast import literal_eval\n",
        "import shutil"
      ],
      "execution_count": 0,
      "outputs": []
    },
    {
      "cell_type": "code",
      "metadata": {
        "id": "OaIJ5nlJ1kab",
        "colab_type": "code",
        "colab": {
          "base_uri": "https://localhost:8080/",
          "height": 34
        },
        "outputId": "5157a1d4-b343-4322-d21e-eccb13cfc768"
      },
      "source": [
        "# setup directory and files\n",
        "base_dir = \"/content/drive/My Drive/Dataset\"\n",
        "train_dataframe = os.path.join(base_dir, 'train.csv')\n",
        "train_dir = os.path.join(base_dir, 'Train/')\n",
        "data_dir = os.path.join(base_dir, 'Data/')\n",
        "if not os.path.exists(data_dir):\n",
        "  print(\"Directory Created\")\n",
        "  os.makedirs(data_dir)"
      ],
      "execution_count": 2,
      "outputs": [
        {
          "output_type": "stream",
          "text": [
            "Directory Created\n"
          ],
          "name": "stdout"
        }
      ]
    },
    {
      "cell_type": "code",
      "metadata": {
        "id": "hcYBh8pk13Z4",
        "colab_type": "code",
        "outputId": "e0eb3222-4532-433e-ac98-72f4e1a5e3fe",
        "colab": {
          "base_uri": "https://localhost:8080/",
          "height": 204
        }
      },
      "source": [
        "# load dataframe\n",
        "train_df = pd.read_csv(train_dataframe)\n",
        "train_df.head()"
      ],
      "execution_count": 3,
      "outputs": [
        {
          "output_type": "execute_result",
          "data": {
            "text/html": [
              "<div>\n",
              "<style scoped>\n",
              "    .dataframe tbody tr th:only-of-type {\n",
              "        vertical-align: middle;\n",
              "    }\n",
              "\n",
              "    .dataframe tbody tr th {\n",
              "        vertical-align: top;\n",
              "    }\n",
              "\n",
              "    .dataframe thead th {\n",
              "        text-align: right;\n",
              "    }\n",
              "</style>\n",
              "<table border=\"1\" class=\"dataframe\">\n",
              "  <thead>\n",
              "    <tr style=\"text-align: right;\">\n",
              "      <th></th>\n",
              "      <th>image_id</th>\n",
              "      <th>width</th>\n",
              "      <th>height</th>\n",
              "      <th>bbox</th>\n",
              "      <th>source</th>\n",
              "    </tr>\n",
              "  </thead>\n",
              "  <tbody>\n",
              "    <tr>\n",
              "      <th>0</th>\n",
              "      <td>b6ab77fd7</td>\n",
              "      <td>1024</td>\n",
              "      <td>1024</td>\n",
              "      <td>[834.0, 222.0, 56.0, 36.0]</td>\n",
              "      <td>usask_1</td>\n",
              "    </tr>\n",
              "    <tr>\n",
              "      <th>1</th>\n",
              "      <td>b6ab77fd7</td>\n",
              "      <td>1024</td>\n",
              "      <td>1024</td>\n",
              "      <td>[226.0, 548.0, 130.0, 58.0]</td>\n",
              "      <td>usask_1</td>\n",
              "    </tr>\n",
              "    <tr>\n",
              "      <th>2</th>\n",
              "      <td>b6ab77fd7</td>\n",
              "      <td>1024</td>\n",
              "      <td>1024</td>\n",
              "      <td>[377.0, 504.0, 74.0, 160.0]</td>\n",
              "      <td>usask_1</td>\n",
              "    </tr>\n",
              "    <tr>\n",
              "      <th>3</th>\n",
              "      <td>b6ab77fd7</td>\n",
              "      <td>1024</td>\n",
              "      <td>1024</td>\n",
              "      <td>[834.0, 95.0, 109.0, 107.0]</td>\n",
              "      <td>usask_1</td>\n",
              "    </tr>\n",
              "    <tr>\n",
              "      <th>4</th>\n",
              "      <td>b6ab77fd7</td>\n",
              "      <td>1024</td>\n",
              "      <td>1024</td>\n",
              "      <td>[26.0, 144.0, 124.0, 117.0]</td>\n",
              "      <td>usask_1</td>\n",
              "    </tr>\n",
              "  </tbody>\n",
              "</table>\n",
              "</div>"
            ],
            "text/plain": [
              "    image_id  width  height                         bbox   source\n",
              "0  b6ab77fd7   1024    1024   [834.0, 222.0, 56.0, 36.0]  usask_1\n",
              "1  b6ab77fd7   1024    1024  [226.0, 548.0, 130.0, 58.0]  usask_1\n",
              "2  b6ab77fd7   1024    1024  [377.0, 504.0, 74.0, 160.0]  usask_1\n",
              "3  b6ab77fd7   1024    1024  [834.0, 95.0, 109.0, 107.0]  usask_1\n",
              "4  b6ab77fd7   1024    1024  [26.0, 144.0, 124.0, 117.0]  usask_1"
            ]
          },
          "metadata": {
            "tags": []
          },
          "execution_count": 3
        }
      ]
    },
    {
      "cell_type": "markdown",
      "metadata": {
        "id": "nObC1Sye8Z-u",
        "colab_type": "text"
      },
      "source": [
        "The bounding box format as given is [xmin, ymin, widht, height] in pixels. For yolov4, we have to convert these labels into Yolo format. Below is how to do so."
      ]
    },
    {
      "cell_type": "code",
      "metadata": {
        "id": "siewDW512AfI",
        "colab_type": "code",
        "colab": {}
      },
      "source": [
        "def convert(size, box):\n",
        "  dw = 1. / size[0]\n",
        "  dh = 1. / size[1]\n",
        "  x = (box[0] + box[1]) / 2.0\n",
        "  y = (box[2] + box[3]) / 2.0\n",
        "  w = box[1] - box[0]\n",
        "  h = box[3] - box[2]\n",
        "  x = x * dw\n",
        "  w = w * dw\n",
        "  y = y * dh\n",
        "  h = h * dh\n",
        "  return [x, y, w, h]\n",
        "\n",
        "def convert_to_yolo_label(coco_format_box, w = 1024, h = 1024):\n",
        "  bbox = literal_eval(coco_format_box)\n",
        "  xmin = bbox[0]\n",
        "  xmax = bbox[0] + bbox[2]\n",
        "  ymin = bbox[1]\n",
        "  ymax = bbox[1] + bbox[3]\n",
        "  b = (float(xmin), float(xmax), float(ymin), float(ymax))\n",
        "  yolo_box = convert((w, h), b)\n",
        "  if np.max(yolo_box) > 1 or np.min(yolo_box) < 0: \n",
        "    print(\"BOX HAS AN ISSUE\")\n",
        "  return yolo_box"
      ],
      "execution_count": 0,
      "outputs": []
    },
    {
      "cell_type": "code",
      "metadata": {
        "id": "_z66-pcY3wd5",
        "colab_type": "code",
        "outputId": "6b23562e-da9c-49f4-d085-7715e62f86d9",
        "colab": {
          "base_uri": "https://localhost:8080/",
          "height": 51
        }
      },
      "source": [
        "%%time\n",
        "train_df['yolo_box'] = train_df.bbox.apply(convert_to_yolo_label)"
      ],
      "execution_count": 5,
      "outputs": [
        {
          "output_type": "stream",
          "text": [
            "CPU times: user 4.38 s, sys: 53.2 ms, total: 4.43 s\n",
            "Wall time: 4.42 s\n"
          ],
          "name": "stdout"
        }
      ]
    },
    {
      "cell_type": "code",
      "metadata": {
        "id": "D9NX0jSJ3yoV",
        "colab_type": "code",
        "outputId": "a456eb4a-a81c-4678-9a3d-dd1651fe35ff",
        "colab": {
          "base_uri": "https://localhost:8080/",
          "height": 204
        }
      },
      "source": [
        "train_df.head()"
      ],
      "execution_count": 6,
      "outputs": [
        {
          "output_type": "execute_result",
          "data": {
            "text/html": [
              "<div>\n",
              "<style scoped>\n",
              "    .dataframe tbody tr th:only-of-type {\n",
              "        vertical-align: middle;\n",
              "    }\n",
              "\n",
              "    .dataframe tbody tr th {\n",
              "        vertical-align: top;\n",
              "    }\n",
              "\n",
              "    .dataframe thead th {\n",
              "        text-align: right;\n",
              "    }\n",
              "</style>\n",
              "<table border=\"1\" class=\"dataframe\">\n",
              "  <thead>\n",
              "    <tr style=\"text-align: right;\">\n",
              "      <th></th>\n",
              "      <th>image_id</th>\n",
              "      <th>width</th>\n",
              "      <th>height</th>\n",
              "      <th>bbox</th>\n",
              "      <th>source</th>\n",
              "      <th>yolo_box</th>\n",
              "    </tr>\n",
              "  </thead>\n",
              "  <tbody>\n",
              "    <tr>\n",
              "      <th>0</th>\n",
              "      <td>b6ab77fd7</td>\n",
              "      <td>1024</td>\n",
              "      <td>1024</td>\n",
              "      <td>[834.0, 222.0, 56.0, 36.0]</td>\n",
              "      <td>usask_1</td>\n",
              "      <td>[0.841796875, 0.234375, 0.0546875, 0.03515625]</td>\n",
              "    </tr>\n",
              "    <tr>\n",
              "      <th>1</th>\n",
              "      <td>b6ab77fd7</td>\n",
              "      <td>1024</td>\n",
              "      <td>1024</td>\n",
              "      <td>[226.0, 548.0, 130.0, 58.0]</td>\n",
              "      <td>usask_1</td>\n",
              "      <td>[0.2841796875, 0.5634765625, 0.126953125, 0.05...</td>\n",
              "    </tr>\n",
              "    <tr>\n",
              "      <th>2</th>\n",
              "      <td>b6ab77fd7</td>\n",
              "      <td>1024</td>\n",
              "      <td>1024</td>\n",
              "      <td>[377.0, 504.0, 74.0, 160.0]</td>\n",
              "      <td>usask_1</td>\n",
              "      <td>[0.404296875, 0.5703125, 0.072265625, 0.15625]</td>\n",
              "    </tr>\n",
              "    <tr>\n",
              "      <th>3</th>\n",
              "      <td>b6ab77fd7</td>\n",
              "      <td>1024</td>\n",
              "      <td>1024</td>\n",
              "      <td>[834.0, 95.0, 109.0, 107.0]</td>\n",
              "      <td>usask_1</td>\n",
              "      <td>[0.86767578125, 0.14501953125, 0.1064453125, 0...</td>\n",
              "    </tr>\n",
              "    <tr>\n",
              "      <th>4</th>\n",
              "      <td>b6ab77fd7</td>\n",
              "      <td>1024</td>\n",
              "      <td>1024</td>\n",
              "      <td>[26.0, 144.0, 124.0, 117.0]</td>\n",
              "      <td>usask_1</td>\n",
              "      <td>[0.0859375, 0.19775390625, 0.12109375, 0.11425...</td>\n",
              "    </tr>\n",
              "  </tbody>\n",
              "</table>\n",
              "</div>"
            ],
            "text/plain": [
              "    image_id  width  ...   source                                           yolo_box\n",
              "0  b6ab77fd7   1024  ...  usask_1     [0.841796875, 0.234375, 0.0546875, 0.03515625]\n",
              "1  b6ab77fd7   1024  ...  usask_1  [0.2841796875, 0.5634765625, 0.126953125, 0.05...\n",
              "2  b6ab77fd7   1024  ...  usask_1     [0.404296875, 0.5703125, 0.072265625, 0.15625]\n",
              "3  b6ab77fd7   1024  ...  usask_1  [0.86767578125, 0.14501953125, 0.1064453125, 0...\n",
              "4  b6ab77fd7   1024  ...  usask_1  [0.0859375, 0.19775390625, 0.12109375, 0.11425...\n",
              "\n",
              "[5 rows x 6 columns]"
            ]
          },
          "metadata": {
            "tags": []
          },
          "execution_count": 6
        }
      ]
    },
    {
      "cell_type": "code",
      "metadata": {
        "id": "PREUeDU-4Ecy",
        "colab_type": "code",
        "colab": {}
      },
      "source": [
        "unique_img_ids = train_df.image_id.unique()"
      ],
      "execution_count": 0,
      "outputs": []
    },
    {
      "cell_type": "code",
      "metadata": {
        "id": "wAhpNw5e4aoR",
        "colab_type": "code",
        "colab": {}
      },
      "source": [
        "folder_location = data_dir\n",
        "for img_id in unique_img_ids: # loop through all unique image ids.\n",
        "    filt_df = train_df.query(\"image_id == @img_id\") # filter the df to a specific id\n",
        "    all_boxes = filt_df.yolo_box.values\n",
        "    file_name = \"{}/{}.txt\".format(folder_location,img_id) # specify the name of the folder and get a file name\n",
        "\n",
        "    s = \"0 %s %s %s %s \\n\" # the first number is the identifier of the class. If you are doing multi-class, make sure to change that\n",
        "    with open(file_name, 'a') as file: # append lines to file\n",
        "        for i in all_boxes:\n",
        "            new_line = (s % tuple(i))\n",
        "            file.write(new_line)  "
      ],
      "execution_count": 0,
      "outputs": []
    },
    {
      "cell_type": "code",
      "metadata": {
        "id": "lLpEF1yo4qRP",
        "colab_type": "code",
        "colab": {}
      },
      "source": [
        "all_imgs = glob(train_dir + \"*.jpg\")\n",
        "all_imgs = [i.split(\"/\")[-1].replace(\".jpg\", \"\") for i in all_imgs]\n",
        "positive_imgs = train_df.image_id.unique()"
      ],
      "execution_count": 0,
      "outputs": []
    },
    {
      "cell_type": "code",
      "metadata": {
        "id": "xw-2ilOn5Zmy",
        "colab_type": "code",
        "outputId": "732e9c37-4662-4df9-8609-d0c238757b45",
        "colab": {
          "base_uri": "https://localhost:8080/",
          "height": 68
        }
      },
      "source": [
        "negative_images = set(all_imgs) - set(positive_imgs)\n",
        "print(\"Length of all images is: {} \\nLength of all images with bbox is: {} \\nLength of all images without bbox is: {}\".format(len(all_imgs), len(positive_imgs), len(negative_images)))"
      ],
      "execution_count": 10,
      "outputs": [
        {
          "output_type": "stream",
          "text": [
            "Length of all images is: 3422 \n",
            "Length of all images with bbox is: 3373 \n",
            "Length of all images without bbox is: 49\n"
          ],
          "name": "stdout"
        }
      ]
    },
    {
      "cell_type": "markdown",
      "metadata": {
        "id": "qt1w5fnd98-s",
        "colab_type": "text"
      },
      "source": [
        "We need to also make labels for the training images that do not have bounding boxes in them."
      ]
    },
    {
      "cell_type": "code",
      "metadata": {
        "id": "jzTWt-hC54ri",
        "colab_type": "code",
        "colab": {}
      },
      "source": [
        "for i in list(negative_images):\n",
        "  file_name = data_dir + \"{}.txt\".format(i)\n",
        "  with open(file_name, 'w') as fp: \n",
        "    pass"
      ],
      "execution_count": 0,
      "outputs": []
    },
    {
      "cell_type": "code",
      "metadata": {
        "id": "N3Wszqni6P1H",
        "colab_type": "code",
        "outputId": "99b4cfcd-4523-4f71-d6f4-0555cc2b93c4",
        "colab": {
          "base_uri": "https://localhost:8080/",
          "height": 34
        }
      },
      "source": [
        "# Expected length should be 3422 one txt file for each image\n",
        "print(\"Length of label folder we created is: {}\".format(len(glob(data_dir + \"/*\"))))"
      ],
      "execution_count": 12,
      "outputs": [
        {
          "output_type": "stream",
          "text": [
            "Length of label folder we created is: 3422\n"
          ],
          "name": "stdout"
        }
      ]
    },
    {
      "cell_type": "markdown",
      "metadata": {
        "id": "s2O7lJ_k-QWN",
        "colab_type": "text"
      },
      "source": [
        "Now we need to move all images to data directory where we have all labels ready."
      ]
    },
    {
      "cell_type": "code",
      "metadata": {
        "id": "Qwgc1xb463x1",
        "colab_type": "code",
        "colab": {}
      },
      "source": [
        "files = os.listdir(train_dir)\n",
        "for f in files:\n",
        "  shutil.copy(train_dir + \"/\" + f, data_dir)"
      ],
      "execution_count": 0,
      "outputs": []
    },
    {
      "cell_type": "code",
      "metadata": {
        "id": "_1zM86Zn_eLx",
        "colab_type": "code",
        "colab": {
          "base_uri": "https://localhost:8080/",
          "height": 34
        },
        "outputId": "d57fc092-6cb8-4ce1-8801-00a8d702c633"
      },
      "source": [
        "# Expected length should be 3422*2 = 6844\n",
        "print(\"Length of label folder we created is: {}\".format(len(glob(data_dir + \"/*\"))))"
      ],
      "execution_count": 14,
      "outputs": [
        {
          "output_type": "stream",
          "text": [
            "Length of label folder we created is: 6844\n"
          ],
          "name": "stdout"
        }
      ]
    },
    {
      "cell_type": "markdown",
      "metadata": {
        "id": "DupNkhMfL8IG",
        "colab_type": "text"
      },
      "source": [
        "Now we need to create train.txt file which has all images name."
      ]
    },
    {
      "cell_type": "code",
      "metadata": {
        "id": "Nhu5AEutJqz9",
        "colab_type": "code",
        "colab": {}
      },
      "source": [
        "image_files = []\n",
        "for filename in os.listdir(data_dir):\n",
        "  if filename.endswith(\".jpg\"):\n",
        "    image_files.append(data_dir + filename)\n",
        "\n",
        "with open(base_dir + \"/train.txt\", \"w\") as outfile:\n",
        "  for image in image_files:\n",
        "    outfile.write(image)\n",
        "    outfile.write(\"\\n\")\n",
        "  outfile.close()"
      ],
      "execution_count": 0,
      "outputs": []
    },
    {
      "cell_type": "markdown",
      "metadata": {
        "id": "IhNs0BR7OuV4",
        "colab_type": "text"
      },
      "source": [
        "Done! Now we have train.txt file with all images location."
      ]
    },
    {
      "cell_type": "code",
      "metadata": {
        "id": "CxVtegInO1LK",
        "colab_type": "code",
        "colab": {}
      },
      "source": [
        ""
      ],
      "execution_count": 0,
      "outputs": []
    }
  ]
}