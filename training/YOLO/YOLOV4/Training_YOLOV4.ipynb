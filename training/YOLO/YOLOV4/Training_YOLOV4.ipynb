{
  "nbformat": 4,
  "nbformat_minor": 0,
  "metadata": {
    "colab": {
      "name": "Training YOLOV4.ipynb",
      "provenance": [],
      "collapsed_sections": [],
      "authorship_tag": "ABX9TyNgW81tSzaxjCLk53LIjt1/",
      "include_colab_link": true
    },
    "kernelspec": {
      "name": "python3",
      "display_name": "Python 3"
    },
    "accelerator": "GPU"
  },
  "cells": [
    {
      "cell_type": "markdown",
      "metadata": {
        "id": "view-in-github",
        "colab_type": "text"
      },
      "source": [
        "<a href=\"https://colab.research.google.com/github/DhruvMakwana/Global-Wheat-Detection/blob/master/Training_YOLOV4.ipynb\" target=\"_parent\"><img src=\"https://colab.research.google.com/assets/colab-badge.svg\" alt=\"Open In Colab\"/></a>"
      ]
    },
    {
      "cell_type": "markdown",
      "metadata": {
        "id": "rEadeg-k1ibc",
        "colab_type": "text"
      },
      "source": [
        "# Training YOLOv4 in google colab GPU enabled\n",
        "\n",
        "**Note**: Make sure you have your runtime type is GPU."
      ]
    },
    {
      "cell_type": "markdown",
      "metadata": {
        "id": "7SC1aCAzVJiW",
        "colab_type": "text"
      },
      "source": [
        "# Step 1: Cloning and Building Darknet"
      ]
    },
    {
      "cell_type": "code",
      "metadata": {
        "id": "6kh_7nI7FU1D",
        "colab_type": "code",
        "colab": {}
      },
      "source": [
        "from google.colab import drive\n",
        "drive.mount(\"/content/drive\")"
      ],
      "execution_count": null,
      "outputs": []
    },
    {
      "cell_type": "code",
      "metadata": {
        "id": "-Nu6KG9PVHi5",
        "colab_type": "code",
        "colab": {}
      },
      "source": [
        "# clone darknet repo\n",
        "!git clone https://github.com/AlexeyAB/darknet"
      ],
      "execution_count": null,
      "outputs": []
    },
    {
      "cell_type": "code",
      "metadata": {
        "id": "jMmd1FgCT15V",
        "colab_type": "code",
        "colab": {}
      },
      "source": [
        "# change makefile to have GPU and OPENCV enabled\n",
        "%cd darknet\n",
        "!sed -i 's/OPENCV=0/OPENCV=1/' Makefile\n",
        "!sed -i 's/GPU=0/GPU=1/' Makefile\n",
        "!sed -i 's/CUDNN=0/CUDNN=1/' Makefile"
      ],
      "execution_count": null,
      "outputs": []
    },
    {
      "cell_type": "code",
      "metadata": {
        "id": "qBYbWJ4VVZLR",
        "colab_type": "code",
        "colab": {}
      },
      "source": [
        "# verify CUDA\n",
        "!/usr/local/cuda/bin/nvcc --version"
      ],
      "execution_count": null,
      "outputs": []
    },
    {
      "cell_type": "code",
      "metadata": {
        "id": "IeF0Am6vVcEo",
        "colab_type": "code",
        "colab": {}
      },
      "source": [
        "# make darknet (build)\n",
        "%%time\n",
        "!make"
      ],
      "execution_count": null,
      "outputs": []
    },
    {
      "cell_type": "markdown",
      "metadata": {
        "id": "MIA-Ij48Vj29",
        "colab_type": "text"
      },
      "source": [
        "# Step 2: Download pretrained YOLOv4 weights"
      ]
    },
    {
      "cell_type": "code",
      "metadata": {
        "id": "dyBTKeSlVfla",
        "colab_type": "code",
        "colab": {}
      },
      "source": [
        "# get yolov4 pretrained coco dataset weights\n",
        "!wget https://github.com/AlexeyAB/darknet/releases/download/darknet_yolo_v3_optimal/yolov4.weights"
      ],
      "execution_count": null,
      "outputs": []
    },
    {
      "cell_type": "code",
      "metadata": {
        "id": "WVtm2nJhV08L",
        "colab_type": "code",
        "colab": {}
      },
      "source": [
        "# define helper functions\n",
        "def imShow(path):\n",
        "  import cv2\n",
        "  import matplotlib.pyplot as plt\n",
        "  %matplotlib inline\n",
        " \n",
        "  image = cv2.imread(path)\n",
        "  height, width = image.shape[:2]\n",
        "  resized_image = cv2.resize(image,(3*width, 3*height), interpolation = cv2.INTER_CUBIC)\n",
        " \n",
        "  fig = plt.gcf()\n",
        "  fig.set_size_inches(18, 10)\n",
        "  plt.axis(\"off\")\n",
        "  plt.imshow(cv2.cvtColor(resized_image, cv2.COLOR_BGR2RGB))\n",
        "  plt.show()\n",
        " \n",
        "# use this to upload files\n",
        "def upload():\n",
        "  from google.colab import files\n",
        "  uploaded = files.upload() \n",
        "  for name, data in uploaded.items():\n",
        "    with open(name, 'wb') as f:\n",
        "      f.write(data)\n",
        "      print ('saved file', name)\n",
        " \n",
        "# use this to download a file  \n",
        "def download(path):\n",
        "  from google.colab import files\n",
        "  files.download(path)"
      ],
      "execution_count": null,
      "outputs": []
    },
    {
      "cell_type": "markdown",
      "metadata": {
        "id": "oF9pZRxMWu2B",
        "colab_type": "text"
      },
      "source": [
        "# Step 3: Configure files for training"
      ]
    },
    {
      "cell_type": "code",
      "metadata": {
        "id": "Y6sphWFfYnd8",
        "colab_type": "code",
        "colab": {}
      },
      "source": [
        "!ln -s /content/drive/My\\ Drive/ /mydrive\n",
        "!ls /mydrive"
      ],
      "execution_count": null,
      "outputs": []
    },
    {
      "cell_type": "code",
      "metadata": {
        "id": "YZadBb2tWfou",
        "colab_type": "code",
        "colab": {}
      },
      "source": [
        "# download cfg to google drive and change required variables\n",
        "!cp /content/darknet/cfg/yolov4.cfg /mydrive/Dataset/yolov4.cfg"
      ],
      "execution_count": null,
      "outputs": []
    },
    {
      "cell_type": "code",
      "metadata": {
        "id": "cP0K-XWUXHaf",
        "colab_type": "code",
        "colab": {}
      },
      "source": [
        "# Use this if you want to download file for local machine\n",
        "#download(\"/content/darknet/cfg/yolov4.cfg\")"
      ],
      "execution_count": null,
      "outputs": []
    },
    {
      "cell_type": "markdown",
      "metadata": {
        "id": "YAkdLAJM2P5X",
        "colab_type": "text"
      },
      "source": [
        "Open yolov4.cfg in Text editor from drive and make some changes.\n",
        "1. On Line 2: change batch = 16\n",
        "2. On Line 3: change subdivision = 64\n",
        "3. On Line 7: change width = 928\n",
        "4. On Line 8: change height = 928\n",
        "5. On Line 19: change max_batches = 6000\n",
        "6. On Line 21: change steps = 2000, 3000\n",
        "7. On Line 961: change filters = 18\n",
        "8. On Line 967: change anchors to anchors we generate in [this notebook](https://github.com/DhruvMakwana/Global-Wheat-Detection/blob/master/Generate_Anchors_for_YOLO.ipynb) i.e. (1.30,2.49, 1.70,1.23, 2.21,2.01, 2.46,2.94, 2.82,4.55, 3.17,1.38, 3.72,2.28, 4.65,3.33, 5.55,5.97)\n",
        "9. On Line 968: change classes = 1\n",
        "10. On Line 1049: change filters = 18\n",
        "11. On Line 1055: change anchors to anchors we generate in [this notebook](https://github.com/DhruvMakwana/Global-Wheat-Detection/blob/master/Generate_Anchors_for_YOLO.ipynb) i.e. (1.30,2.49, 1.70,1.23, 2.21,2.01, 2.46,2.94, 2.82,4.55, 3.17,1.38, 3.72,2.28, 4.65,3.33, 5.55,5.97)\n",
        "12. On Line 1056: change classes = 1\n",
        "13. On Line 1137: change filters = 18\n",
        "14. On Line 1143: change anchors to anchors we generate in [this notebook](https://github.com/DhruvMakwana/Global-Wheat-Detection/blob/master/Generate_Anchors_for_YOLO.ipynb) i.e. (1.30,2.49, 1.70,1.23, 2.21,2.01, 2.46,2.94, 2.82,4.55, 3.17,1.38, 3.72,2.28, 4.65,3.33, 5.55,5.97)\n",
        "15. On Line 1144: change classes = 1"
      ]
    },
    {
      "cell_type": "code",
      "metadata": {
        "id": "wqnqNZKwhyLn",
        "colab_type": "code",
        "colab": {}
      },
      "source": [
        "# upload the  yolov4.cfg and train.txt back to colab from Google Drive\n",
        "!cp /mydrive/Dataset/yolov4.cfg /content/darknet/cfg\n",
        "!cp /mydrive/train.txt /content/darknet/data\n",
        " \n",
        "# upload the yolov4.cfg and train.txt back to colab from local machine (uncomment to use)\n",
        "#%cd cfg\n",
        "#upload()\n",
        "#%cd .."
      ],
      "execution_count": null,
      "outputs": []
    },
    {
      "cell_type": "markdown",
      "metadata": {
        "id": "ftnLVWyQ8q8A",
        "colab_type": "text"
      },
      "source": [
        "Create two new files in google drive in Dataset folder named `obj.names` and `obj.data`\n",
        "\n",
        "1. obj.names: Write this 1 line in obj.names file\n",
        "    ```\n",
        "    Wheat\n",
        "    ```\n",
        "2. obj.data: Write this 4 lines in obj.data file\n",
        "\n",
        "    ```\n",
        "    classes = 1\n",
        "    train = /content/darknet/data/train.txt\n",
        "    names = /content/darknet/data/obj.names\n",
        "    backup = \"/content/drive/My Drive/Dataset/Backup/\"\n",
        "    ```"
      ]
    },
    {
      "cell_type": "code",
      "metadata": {
        "id": "oyJ3qreum-m3",
        "colab_type": "code",
        "colab": {}
      },
      "source": [
        "# upload the obj.names and obj.data files to colab from Google Drive\n",
        "!cp /mydrive/Dataset/obj.names /content/darknet/data/\n",
        "!cp /mydrive/Dataset/obj.data /content/darknet/data/\n",
        " \n",
        "# upload the obj.names and obj.data files to colab from local machine (uncomment to use)\n",
        "#%cd data\n",
        "#upload()\n",
        "#%cd .."
      ],
      "execution_count": null,
      "outputs": []
    },
    {
      "cell_type": "markdown",
      "metadata": {
        "id": "tUuJSumM-Hfv",
        "colab_type": "text"
      },
      "source": [
        "# Step 4: Download pre-trained weights for convolution layers"
      ]
    },
    {
      "cell_type": "code",
      "metadata": {
        "id": "cY7rVvtTo2qr",
        "colab_type": "code",
        "colab": {}
      },
      "source": [
        "# download pretrained convolutional layer weights\n",
        "!wget https://github.com/AlexeyAB/darknet/releases/download/darknet_yolo_v3_optimal/yolov4.conv.137"
      ],
      "execution_count": null,
      "outputs": []
    },
    {
      "cell_type": "markdown",
      "metadata": {
        "id": "ANmc47jt-Q6P",
        "colab_type": "text"
      },
      "source": [
        "# Step 5: Train Object Detector!"
      ]
    },
    {
      "cell_type": "code",
      "metadata": {
        "id": "hd2ZdSshqqUh",
        "colab_type": "code",
        "colab": {}
      },
      "source": [
        "!./darknet detector train /content/darknet/data/obj.data /content/darknet/cfg/yolov4.cfg /content/darknet/yolov4.conv.137 -dont_show"
      ],
      "execution_count": null,
      "outputs": []
    },
    {
      "cell_type": "code",
      "metadata": {
        "id": "tdyf1OvmrbHa",
        "colab_type": "code",
        "colab": {}
      },
      "source": [
        "# if training stops before completion then run this cell it will continue from last saved result\n",
        "!./darknet detector train /content/darknet/data/obj.data /content/darknet/cfg/yolov4.cfg /mydrive/Dataset/Backup/yolov4_last.weights -dont_show"
      ],
      "execution_count": null,
      "outputs": []
    }
  ]
}